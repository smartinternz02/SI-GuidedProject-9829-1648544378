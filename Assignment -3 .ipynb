{
 "cells": [
  {
   "cell_type": "markdown",
   "metadata": {},
   "source": [
    "# Assignment -3 "
   ]
  },
  {
   "cell_type": "raw",
   "metadata": {},
   "source": [
    "Take Multiple-Class Classification Dataset From Kaggle.\n",
    "1-Data Preprocessing \n",
    "2-EDA\n",
    "3-Train,Test & Split\n",
    "4-Feature Scaling\n",
    "5-Model Building\n",
    "    1-Import Necessary libraries\n",
    "    2-Add input layer(inputs=no of inputs in dataset=n,weights=random,AF=relu)\n",
    "    3-Add hidden layer(no of hidden neuron=inputs=2n or n/2,weights=random,AF)\n",
    "    4-Add output layer(inputs,weights,AF\n",
    "                      Regression-1,random,relu\n",
    "                      Binary-1,random,sigmoid\n",
    "                      Categorical-no of classes,random,softmax)\n",
    "    5-Configure the learning processs\n",
    "        (loss function,accuracy,optimizer)\n",
    "      Regression- (MSE,Gradient/Stochastic/Mini Batch)\n",
    "      Binary-(binary cross entropy,accuracy,Gradient/Stochastic/Mini Batch)\n",
    "      Categorical-(categorical cross entropy,accuracy,Gradient/Stochastic/Mini Batch)\n",
    "    6-Fit the Model(x_train,y_train,batch_size,no of epochs)\n",
    "6-Test the model"
   ]
  },
  {
   "cell_type": "code",
   "execution_count": 1,
   "metadata": {},
   "outputs": [],
   "source": [
    "import matplotlib.pyplot as plt\n",
    "import seaborn as sns\n",
    "import numpy as np\n",
    "import pandas as pd \n",
    "import seaborn as sns\n",
    "\n",
    "from keras.models import Sequential\n",
    "from keras.layers import Dense\n",
    "from tensorflow.keras.optimizers import SGD, Adam, Adadelta, RMSprop\n",
    "import keras.backend as K\n",
    "from keras.layers import Dropout\n",
    "\n",
    "from sklearn.model_selection import train_test_split\n",
    "\n",
    "from sklearn.preprocessing import StandardScaler\n",
    "\n",
    "from sklearn.metrics import classification_report\n",
    "from keras.utils.np_utils import to_categorical\n",
    "from sklearn.preprocessing import StandardScaler"
   ]
  },
  {
   "cell_type": "code",
   "execution_count": 2,
   "metadata": {},
   "outputs": [],
   "source": [
    "df = pd.read_csv('data.csv')"
   ]
  },
  {
   "cell_type": "code",
   "execution_count": 3,
   "metadata": {},
   "outputs": [],
   "source": [
    "na = pd.notnull(df[\"Position\"])\n",
    "df = df[na]"
   ]
  },
  {
   "cell_type": "code",
   "execution_count": 4,
   "metadata": {},
   "outputs": [],
   "source": [
    "df = df[[\"Position\", 'Finishing', 'HeadingAccuracy', 'ShortPassing', 'Volleys', 'Dribbling',\n",
    "       'Curve', 'FKAccuracy', 'LongPassing', 'BallControl', 'Acceleration',\n",
    "       'SprintSpeed', 'Agility', 'Reactions', 'Balance', 'ShotPower',\n",
    "       'Jumping', 'Stamina', 'Strength', 'LongShots', 'Aggression',\n",
    "       'Interceptions', 'Positioning', 'Vision', 'Penalties', 'Composure',\n",
    "       'Marking', 'StandingTackle', 'SlidingTackle', 'GKDiving', 'GKHandling',\n",
    "       'GKKicking', 'GKPositioning', 'GKReflexes']]"
   ]
  },
  {
   "cell_type": "code",
   "execution_count": 5,
   "metadata": {},
   "outputs": [],
   "source": [
    "forward_player = [\"ST\", \"LW\", \"RW\", \"LF\", \"RF\", \"RS\",\"LS\", \"CF\"]\n",
    "midfielder_player = [\"CM\",\"RCM\",\"LCM\", \"CDM\",\"RDM\",\"LDM\", \"CAM\", \"LAM\", \"RAM\", \"RM\", \"LM\"]\n",
    "defender_player = [\"CB\", \"RCB\", \"LCB\", \"LWB\", \"RWB\", \"LB\", \"RB\"]"
   ]
  },
  {
   "cell_type": "code",
   "execution_count": 6,
   "metadata": {},
   "outputs": [],
   "source": [
    "df.loc[df[\"Position\"] == \"GK\", \"Position\"] = 0\n",
    "\n",
    "df.loc[df[\"Position\"].isin(defender_player), \"Position\"] = 1\n",
    "\n",
    "df.loc[df[\"Position\"].isin(midfielder_player), \"Position\"] = 2\n",
    "\n",
    "df.loc[df[\"Position\"].isin(forward_player), \"Position\"] = 3"
   ]
  },
  {
   "cell_type": "code",
   "execution_count": 7,
   "metadata": {},
   "outputs": [],
   "source": [
    "x = df.drop(\"Position\", axis = 1)\n",
    "\n",
    "sc = StandardScaler()\n",
    "x = pd.DataFrame(sc.fit_transform(x))\n",
    "y = df[\"Position\"]"
   ]
  },
  {
   "cell_type": "code",
   "execution_count": 8,
   "metadata": {},
   "outputs": [],
   "source": [
    "y_cat = to_categorical(y)"
   ]
  },
  {
   "cell_type": "code",
   "execution_count": 9,
   "metadata": {},
   "outputs": [],
   "source": [
    "from sklearn.model_selection import train_test_split\n",
    "x_train, x_test, y_train, y_test = train_test_split(x.values, y_cat, test_size=0.2)"
   ]
  },
  {
   "cell_type": "code",
   "execution_count": 10,
   "metadata": {},
   "outputs": [
    {
     "name": "stdout",
     "output_type": "stream",
     "text": [
      "Model: \"sequential\"\n",
      "_________________________________________________________________\n",
      "Layer (type)                 Output Shape              Param #   \n",
      "=================================================================\n",
      "dense (Dense)                (None, 60)                2040      \n",
      "_________________________________________________________________\n",
      "dense_1 (Dense)              (None, 15)                915       \n",
      "_________________________________________________________________\n",
      "dropout (Dropout)            (None, 15)                0         \n",
      "_________________________________________________________________\n",
      "dense_2 (Dense)              (None, 4)                 64        \n",
      "=================================================================\n",
      "Total params: 3,019\n",
      "Trainable params: 3,019\n",
      "Non-trainable params: 0\n",
      "_________________________________________________________________\n"
     ]
    },
    {
     "name": "stderr",
     "output_type": "stream",
     "text": [
      "c:\\users\\ashwi\\appdata\\local\\programs\\python\\python37\\lib\\site-packages\\keras\\optimizer_v2\\optimizer_v2.py:356: UserWarning: The `lr` argument is deprecated, use `learning_rate` instead.\n",
      "  \"The `lr` argument is deprecated, use `learning_rate` instead.\")\n"
     ]
    }
   ],
   "source": [
    "model = Sequential()\n",
    "model.add(Dense(60, input_shape = (33,), activation = \"relu\"))\n",
    "model.add(Dense(15, activation = \"relu\"))\n",
    "model.add(Dropout(0.2))\n",
    "model.add(Dense(4, activation = \"softmax\"))\n",
    "model.compile(Adam(lr = 0.01), \"categorical_crossentropy\", metrics = [\"accuracy\"])\n",
    "model.summary()"
   ]
  },
  {
   "cell_type": "code",
   "execution_count": 11,
   "metadata": {},
   "outputs": [
    {
     "name": "stdout",
     "output_type": "stream",
     "text": [
      "Epoch 1/15\n",
      "454/454 [==============================] - 1s 676us/step - loss: 0.3767 - accuracy: 0.8444\n",
      "Epoch 2/15\n",
      "454/454 [==============================] - 0s 684us/step - loss: 0.3387 - accuracy: 0.8653\n",
      "Epoch 3/15\n",
      "454/454 [==============================] - 0s 718us/step - loss: 0.3227 - accuracy: 0.8686\n",
      "Epoch 4/15\n",
      "454/454 [==============================] - 0s 709us/step - loss: 0.3248 - accuracy: 0.8687\n",
      "Epoch 5/15\n",
      "454/454 [==============================] - 0s 715us/step - loss: 0.3160 - accuracy: 0.8713\n",
      "Epoch 6/15\n",
      "454/454 [==============================] - 0s 709us/step - loss: 0.3168 - accuracy: 0.8714\n",
      "Epoch 7/15\n",
      "454/454 [==============================] - 0s 693us/step - loss: 0.3112 - accuracy: 0.8761\n",
      "Epoch 8/15\n",
      "454/454 [==============================] - 0s 713us/step - loss: 0.3058 - accuracy: 0.8788\n",
      "Epoch 9/15\n",
      "454/454 [==============================] - 0s 720us/step - loss: 0.3071 - accuracy: 0.8738\n",
      "Epoch 10/15\n",
      "454/454 [==============================] - 0s 711us/step - loss: 0.3042 - accuracy: 0.8736\n",
      "Epoch 11/15\n",
      "454/454 [==============================] - 0s 702us/step - loss: 0.3143 - accuracy: 0.8742\n",
      "Epoch 12/15\n",
      "454/454 [==============================] - 0s 702us/step - loss: 0.3039 - accuracy: 0.8750\n",
      "Epoch 13/15\n",
      "454/454 [==============================] - 0s 696us/step - loss: 0.3076 - accuracy: 0.8745\n",
      "Epoch 14/15\n",
      "454/454 [==============================] - 0s 667us/step - loss: 0.2993 - accuracy: 0.8781\n",
      "Epoch 15/15\n",
      "454/454 [==============================] - 0s 698us/step - loss: 0.3683 - accuracy: 0.8578\n"
     ]
    },
    {
     "data": {
      "text/plain": [
       "<keras.callbacks.History at 0x208ea3ae988>"
      ]
     },
     "execution_count": 11,
     "metadata": {},
     "output_type": "execute_result"
    }
   ],
   "source": [
    "model.fit(x_train, y_train, verbose=1, epochs=10)"
   ]
  },
  {
   "cell_type": "code",
   "execution_count": 12,
   "metadata": {},
   "outputs": [
    {
     "data": {
      "text/plain": [
       "array([[ 429,    0,    0,    0],\n",
       "       [   0, 1100,   73,    1],\n",
       "       [   2,  117, 1161,   85],\n",
       "       [   0,    4,  166,  492]], dtype=int64)"
      ]
     },
     "execution_count": 12,
     "metadata": {},
     "output_type": "execute_result"
    }
   ],
   "source": [
    "y_pred_class = np.argmax(model.predict(x_test), axis=-1)\n",
    "from sklearn.metrics import confusion_matrix\n",
    "y_pred = model.predict(x_test)\n",
    "y_test_class = np.argmax(y_test, axis=1)\n",
    "confusion_matrix(y_test_class, y_pred_class)"
   ]
  },
  {
   "cell_type": "code",
   "execution_count": 13,
   "metadata": {},
   "outputs": [
    {
     "name": "stdout",
     "output_type": "stream",
     "text": [
      "              precision    recall  f1-score   support\n",
      "\n",
      "           0       1.00      1.00      1.00       429\n",
      "           1       0.90      0.94      0.92      1174\n",
      "           2       0.83      0.85      0.84      1365\n",
      "           3       0.85      0.74      0.79       662\n",
      "\n",
      "    accuracy                           0.88      3630\n",
      "   macro avg       0.89      0.88      0.89      3630\n",
      "weighted avg       0.88      0.88      0.88      3630\n",
      "\n"
     ]
    }
   ],
   "source": [
    "from sklearn.metrics import classification_report\n",
    "print(classification_report(y_test_class, y_pred_class))"
   ]
  }
 ],
 "metadata": {
  "kernelspec": {
   "display_name": "Python 3 (ipykernel)",
   "language": "python",
   "name": "python3"
  },
  "language_info": {
   "codemirror_mode": {
    "name": "ipython",
    "version": 3
   },
   "file_extension": ".py",
   "mimetype": "text/x-python",
   "name": "python",
   "nbconvert_exporter": "python",
   "pygments_lexer": "ipython3",
   "version": "3.7.7"
  }
 },
 "nbformat": 4,
 "nbformat_minor": 4
}
